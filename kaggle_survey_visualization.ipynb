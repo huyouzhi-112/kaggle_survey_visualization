{
 "cells": [
  {
   "cell_type": "code",
   "execution_count": 9,
   "metadata": {},
   "outputs": [],
   "source": [
    "import matplotlib.pyplot as plt\n",
    "import pandas as pd\n",
    "import numpy as np\n",
    "import seaborn as sns\n",
    "from scipy import stats\n",
    "from statsmodels.stats.multicomp import pairwise_tukeyhsd"
   ]
  },
  {
   "cell_type": "code",
   "execution_count": 2,
   "metadata": {},
   "outputs": [
    {
     "data": {
      "text/html": [
       "<div>\n",
       "<style scoped>\n",
       "    .dataframe tbody tr th:only-of-type {\n",
       "        vertical-align: middle;\n",
       "    }\n",
       "\n",
       "    .dataframe tbody tr th {\n",
       "        vertical-align: top;\n",
       "    }\n",
       "\n",
       "    .dataframe thead th {\n",
       "        text-align: right;\n",
       "    }\n",
       "</style>\n",
       "<table border=\"1\" class=\"dataframe\">\n",
       "  <thead>\n",
       "    <tr style=\"text-align: right;\">\n",
       "      <th></th>\n",
       "      <th>Unnamed: 0</th>\n",
       "      <th>Time from Start to Finish (seconds)</th>\n",
       "      <th>Q1</th>\n",
       "      <th>Q2</th>\n",
       "      <th>Q3</th>\n",
       "      <th>Q4</th>\n",
       "      <th>Q5</th>\n",
       "      <th>Q6</th>\n",
       "      <th>Q7_Part_1</th>\n",
       "      <th>Q7_Part_2</th>\n",
       "      <th>...</th>\n",
       "      <th>Q35_B_Part_2</th>\n",
       "      <th>Q35_B_Part_3</th>\n",
       "      <th>Q35_B_Part_4</th>\n",
       "      <th>Q35_B_Part_5</th>\n",
       "      <th>Q35_B_Part_6</th>\n",
       "      <th>Q35_B_Part_7</th>\n",
       "      <th>Q35_B_Part_8</th>\n",
       "      <th>Q35_B_Part_9</th>\n",
       "      <th>Q35_B_Part_10</th>\n",
       "      <th>Q35_B_OTHER</th>\n",
       "    </tr>\n",
       "  </thead>\n",
       "  <tbody>\n",
       "    <tr>\n",
       "      <th>0</th>\n",
       "      <td>1</td>\n",
       "      <td>289287</td>\n",
       "      <td>30-34</td>\n",
       "      <td>Man</td>\n",
       "      <td>United States of America</td>\n",
       "      <td>Master’s degree</td>\n",
       "      <td>Data Engineer</td>\n",
       "      <td>5-10 years</td>\n",
       "      <td>Python</td>\n",
       "      <td>R</td>\n",
       "      <td>...</td>\n",
       "      <td>NaN</td>\n",
       "      <td>NaN</td>\n",
       "      <td>NaN</td>\n",
       "      <td>NaN</td>\n",
       "      <td>NaN</td>\n",
       "      <td>NaN</td>\n",
       "      <td>NaN</td>\n",
       "      <td>NaN</td>\n",
       "      <td>NaN</td>\n",
       "      <td>NaN</td>\n",
       "    </tr>\n",
       "    <tr>\n",
       "      <th>1</th>\n",
       "      <td>2</td>\n",
       "      <td>860</td>\n",
       "      <td>35-39</td>\n",
       "      <td>Man</td>\n",
       "      <td>Argentina</td>\n",
       "      <td>Bachelor’s degree</td>\n",
       "      <td>Software Engineer</td>\n",
       "      <td>10-20 years</td>\n",
       "      <td>NaN</td>\n",
       "      <td>NaN</td>\n",
       "      <td>...</td>\n",
       "      <td>NaN</td>\n",
       "      <td>NaN</td>\n",
       "      <td>NaN</td>\n",
       "      <td>NaN</td>\n",
       "      <td>NaN</td>\n",
       "      <td>NaN</td>\n",
       "      <td>NaN</td>\n",
       "      <td>NaN</td>\n",
       "      <td>None</td>\n",
       "      <td>NaN</td>\n",
       "    </tr>\n",
       "    <tr>\n",
       "      <th>2</th>\n",
       "      <td>3</td>\n",
       "      <td>507</td>\n",
       "      <td>30-34</td>\n",
       "      <td>Man</td>\n",
       "      <td>United States of America</td>\n",
       "      <td>Master’s degree</td>\n",
       "      <td>Data Scientist</td>\n",
       "      <td>5-10 years</td>\n",
       "      <td>Python</td>\n",
       "      <td>NaN</td>\n",
       "      <td>...</td>\n",
       "      <td>NaN</td>\n",
       "      <td>NaN</td>\n",
       "      <td>NaN</td>\n",
       "      <td>NaN</td>\n",
       "      <td>NaN</td>\n",
       "      <td>NaN</td>\n",
       "      <td>NaN</td>\n",
       "      <td>NaN</td>\n",
       "      <td>NaN</td>\n",
       "      <td>NaN</td>\n",
       "    </tr>\n",
       "    <tr>\n",
       "      <th>3</th>\n",
       "      <td>8</td>\n",
       "      <td>762</td>\n",
       "      <td>35-39</td>\n",
       "      <td>Man</td>\n",
       "      <td>Germany</td>\n",
       "      <td>Doctoral degree</td>\n",
       "      <td>Data Scientist</td>\n",
       "      <td>5-10 years</td>\n",
       "      <td>Python</td>\n",
       "      <td>NaN</td>\n",
       "      <td>...</td>\n",
       "      <td>NaN</td>\n",
       "      <td>NaN</td>\n",
       "      <td>NaN</td>\n",
       "      <td>NaN</td>\n",
       "      <td>NaN</td>\n",
       "      <td>NaN</td>\n",
       "      <td>NaN</td>\n",
       "      <td>NaN</td>\n",
       "      <td>NaN</td>\n",
       "      <td>NaN</td>\n",
       "    </tr>\n",
       "    <tr>\n",
       "      <th>4</th>\n",
       "      <td>11</td>\n",
       "      <td>742</td>\n",
       "      <td>35-39</td>\n",
       "      <td>Man</td>\n",
       "      <td>United States of America</td>\n",
       "      <td>Doctoral degree</td>\n",
       "      <td>Research Scientist</td>\n",
       "      <td>1-2 years</td>\n",
       "      <td>NaN</td>\n",
       "      <td>R</td>\n",
       "      <td>...</td>\n",
       "      <td>NaN</td>\n",
       "      <td>NaN</td>\n",
       "      <td>NaN</td>\n",
       "      <td>NaN</td>\n",
       "      <td>NaN</td>\n",
       "      <td>NaN</td>\n",
       "      <td>NaN</td>\n",
       "      <td>NaN</td>\n",
       "      <td>NaN</td>\n",
       "      <td>NaN</td>\n",
       "    </tr>\n",
       "  </tbody>\n",
       "</table>\n",
       "<p>5 rows × 356 columns</p>\n",
       "</div>"
      ],
      "text/plain": [
       "   Unnamed: 0  Time from Start to Finish (seconds)     Q1   Q2  \\\n",
       "0           1                               289287  30-34  Man   \n",
       "1           2                                  860  35-39  Man   \n",
       "2           3                                  507  30-34  Man   \n",
       "3           8                                  762  35-39  Man   \n",
       "4          11                                  742  35-39  Man   \n",
       "\n",
       "                         Q3                 Q4                  Q5  \\\n",
       "0  United States of America    Master’s degree       Data Engineer   \n",
       "1                 Argentina  Bachelor’s degree   Software Engineer   \n",
       "2  United States of America    Master’s degree      Data Scientist   \n",
       "3                   Germany    Doctoral degree      Data Scientist   \n",
       "4  United States of America    Doctoral degree  Research Scientist   \n",
       "\n",
       "            Q6 Q7_Part_1 Q7_Part_2  ... Q35_B_Part_2 Q35_B_Part_3  \\\n",
       "0   5-10 years    Python         R  ...          NaN          NaN   \n",
       "1  10-20 years       NaN       NaN  ...          NaN          NaN   \n",
       "2   5-10 years    Python       NaN  ...          NaN          NaN   \n",
       "3   5-10 years    Python       NaN  ...          NaN          NaN   \n",
       "4    1-2 years       NaN         R  ...          NaN          NaN   \n",
       "\n",
       "  Q35_B_Part_4 Q35_B_Part_5 Q35_B_Part_6 Q35_B_Part_7 Q35_B_Part_8  \\\n",
       "0          NaN          NaN          NaN          NaN          NaN   \n",
       "1          NaN          NaN          NaN          NaN          NaN   \n",
       "2          NaN          NaN          NaN          NaN          NaN   \n",
       "3          NaN          NaN          NaN          NaN          NaN   \n",
       "4          NaN          NaN          NaN          NaN          NaN   \n",
       "\n",
       "  Q35_B_Part_9 Q35_B_Part_10 Q35_B_OTHER  \n",
       "0          NaN           NaN         NaN  \n",
       "1          NaN          None         NaN  \n",
       "2          NaN           NaN         NaN  \n",
       "3          NaN           NaN         NaN  \n",
       "4          NaN           NaN         NaN  \n",
       "\n",
       "[5 rows x 356 columns]"
      ]
     },
     "execution_count": 2,
     "metadata": {},
     "output_type": "execute_result"
    }
   ],
   "source": [
    "df = pd.read_csv(\"clean_kaggle_data.csv\", low_memory=False)\n",
    "df.head()"
   ]
  },
  {
   "cell_type": "markdown",
   "metadata": {},
   "source": [
    "### Question 1\n",
    "Perform exploratory data analysis to analyze the survey dataset and to summarize its main characteristics. \n",
    "Present 3 graphical figures that represent different trends in the data. For your explanatory data analysis, \n",
    "you can consider Country, Age, Education, Professional Experience, and Salary."
   ]
  },
  {
   "cell_type": "code",
   "execution_count": 21,
   "metadata": {},
   "outputs": [
    {
     "data": {
      "image/png": "[encoded data removed]",
      "text/plain": [
       "<Figure size 432x288 with 1 Axes>"
      ]
     },
     "metadata": {
      "needs_background": "light"
     },
     "output_type": "display_data"
    },
    {
     "data": {
      "text/plain": [
       "<Figure size 2400x1600 with 0 Axes>"
      ]
     },
     "metadata": {},
     "output_type": "display_data"
    }
   ],
   "source": [
    "# first graph\n",
    "# select the two columns\n",
    "temp = df.filter(items=['Q4', 'Q24'])\n",
    "temp.columns = ['education', 'salary']\n",
    "\n",
    "# filter education into different groups, then call the corresponding salary column into a list\n",
    "x1 = list(temp[temp['education'] == 'No formal education past high school']['salary'])\n",
    "x2 = list(temp[temp['education'] == 'Some college/university study without earning a bachelor’s degree']['salary'])\n",
    "x3 = list(temp[temp['education'] == 'Bachelor’s degree']['salary'])\n",
    "x4 = list(temp[temp['education'] == 'Professional degree']['salary'])\n",
    "x5 = list(temp[temp['education'] == 'Master’s degree']['salary'])\n",
    "x6 = list(temp[temp['education'] == 'Doctoral degree']['salary'])\n",
    "\n",
    "# Assign colors for each airline and the names\n",
    "colors = ['#E69F00', '#56B4E9', '#F0E442', '#009E73', '#D55E00','tab:purple']\n",
    "names = ['No formal education', 'Some college', 'Bachelor’s degree',\n",
    "         'Professional degree', 'Master’s degree', 'Doctoral degree']\n",
    "         \n",
    "# Plot the histogram with education levels and assign colors and names\n",
    "plt.hist([x1, x2, x3, x4, x5, x6], bins = int(500000/50000),\n",
    "         color = colors, label=names)\n",
    "\n",
    "# Plot formatting\n",
    "plt.legend()\n",
    "plt.xlabel('Salary ($)')\n",
    "plt.ylabel('No. of People Participated')\n",
    "plt.title('Side-by-Side Salary Histogram with Different Educations')\n",
    "plt.figure(dpi=400) # needs to comment when doing export\n",
    "plt.show() # needs to comment when doing export\n",
    "\n",
    "# export figure for report\n",
    "# plt.savefig('f1.png',dpi=400, bbox_inches='tight') "
   ]
  },
  {
   "cell_type": "markdown",
   "metadata": {},
   "source": [
    "The first histogram examines population distribution across the different salaries with different education levels. To address the effects of education on income level, histograms was plotted with different education levels side by side in order to make the number of people under the same salary category comparable between education levels. In summary, most people participating in this survey have master’s and bachelor’s degrees. Almost all the education levels follow the same trend, a Pareto distribution; no matter which education level it is, more people are located on the left side of the plot meaning lower salary, and the number of people gets less as salary goes higher. However, as salary gets higher, only yellow, orange and purple bars are visible, which shows that there are more people with Bachelor’s, Master’s and Doctoral degree have higher salary compared to other education levels."
   ]
  },
  {
   "cell_type": "code",
   "execution_count": 38,
   "metadata": {},
   "outputs": [
    {
     "data": {
      "image/png": "[encoded data removed]",
      "text/plain": [
       "<Figure size 432x288 with 1 Axes>"
      ]
     },
     "metadata": {
      "needs_background": "light"
     },
     "output_type": "display_data"
    }
   ],
   "source": [
    "# second graph\n",
    "# select the two columns\n",
    "temp = df.filter(items=['Q2', 'Q5'])\n",
    "temp.columns = ['gender', 'job']\n",
    "\n",
    "# select different gender groups\n",
    "man = temp[temp['gender'] == 'Man']\n",
    "woman = temp[temp['gender'] == 'Woman']\n",
    "nonb = temp[temp['gender'] == 'Nonbinary']\n",
    "pnts = temp[temp['gender'] == 'Prefer not to say']\n",
    "ps = temp[temp['gender'] == 'Prefer to self-describe']\n",
    "\n",
    "# unique values of jobs\n",
    "jobs = ['Data Engineer', 'Software Engineer', 'Data Scientist',\n",
    "       'Research Scientist', 'Other', 'Statistician',\n",
    "       'Product/Project Manager', 'Data Analyst',\n",
    "       'Machine Learning Engineer', 'Business Analyst',\n",
    "       'DBA/Database Engineer']\n",
    "\n",
    "# count number of gender under each job, store into dataframe and re-order into same sequence\n",
    "man = man['job'].value_counts()\n",
    "man = man.to_frame()\n",
    "man = man.reindex(jobs)\n",
    "\n",
    "woman = woman['job'].value_counts()\n",
    "woman = woman.to_frame()\n",
    "woman = woman.reindex(jobs)\n",
    "\n",
    "nonb = nonb['job'].value_counts()\n",
    "nonb = nonb.to_frame()\n",
    "nonb = nonb.reindex(jobs)\n",
    "\n",
    "pnts = pnts['job'].value_counts()\n",
    "pnts = pnts.to_frame()\n",
    "pnts = pnts.reindex(jobs)\n",
    "\n",
    "ps = ps['job'].value_counts()\n",
    "ps = ps.to_frame()\n",
    "ps = ps.reindex(jobs)\n",
    "\n",
    "# store the number of people counted\n",
    "man = man['job']\n",
    "woman = woman['job']\n",
    "nonb = nonb['job']\n",
    "pnts = pnts['job']\n",
    "ps = ps['job']\n",
    "ind = [job for job in jobs]\n",
    " \n",
    "# make the stacked bar plot\n",
    "plt.bar(ind, ps, width=0.6, label='Prefer to Self-describe', color='m', bottom=pnts+nonb+woman+man)\n",
    "plt.bar(ind, pnts, width=0.6, label='Prefer Not to Say', color='c', bottom=nonb+woman+man)\n",
    "plt.bar(ind, nonb, width=0.6, label='Nonbinary', color='g', bottom=woman+man)\n",
    "plt.bar(ind, woman, width=0.6, label='Woman', color='r', bottom=man)\n",
    "plt.bar(ind, man, width=0.6, label='Man', color='b')\n",
    "\n",
    "# Plot formatting\n",
    "plt.xticks(jobs, fontsize=10, rotation=90)\n",
    "plt.yticks(np.arange(0, 2750, step=250))\n",
    "plt.ylabel(\"No. of People Participated\")\n",
    "plt.xlabel(\"Professions\")\n",
    "plt.legend(loc=\"upper right\")\n",
    "plt.title(\"Gender Groups Distribution Across Professions from Kaggle Survey Data\")\n",
    "plt.figure(dpi=400) # needs to comment when doing export\n",
    "plt.show() # needs to comment when doing export\n",
    "\n",
    "# export figure for report\n",
    "# plt.savefig('f2.png', dpi=400, bbox_inches='tight') "
   ]
  },
  {
   "cell_type": "markdown",
   "metadata": {},
   "source": [
    "The second stacked bar plot examines the proportion of gender groups under different professions in order to address the first objective (the nature of women’s representation in Data Science and Machine Learning). Although we later only focused on men and women, all the gender groups are plotted in this bar plot to reflect the proportion of women in the total population under each profession. We can see that the number of women coloured in red across all these professions is far less than the number of men including data scientists and machine learning engineers. Data Scientists are the most popular/common professions among all the other professions in this survey."
   ]
  },
  {
   "cell_type": "code",
   "execution_count": 50,
   "metadata": {},
   "outputs": [
    {
     "data": {
      "image/png": "[encoded data removed]",
      "text/plain": [
       "<Figure size 432x288 with 1 Axes>"
      ]
     },
     "metadata": {
      "needs_background": "light"
     },
     "output_type": "display_data"
    },
    {
     "data": {
      "text/plain": [
       "<Figure size 2400x1600 with 0 Axes>"
      ]
     },
     "metadata": {},
     "output_type": "display_data"
    }
   ],
   "source": [
    "# third graph\n",
    "# select the three columns; gender, professional experience years and salary\n",
    "temp = df.filter(items=['Q2', 'Q6','Q24'])\n",
    "temp.columns = ['gender', 'pe', 'salary']\n",
    "\n",
    "# only keep men and women's responses\n",
    "temp = temp.loc[(temp['gender'] == 'Man') | (temp['gender'] == 'Woman')]\n",
    "\n",
    "# re-arrange the professional experience years order from the shortest to longest years\n",
    "pe_order = ['I have never written code', '< 1 years', '1-2 years', '3-5 years','5-10 years', '10-20 years', \n",
    "        '20+ years']\n",
    "\n",
    "# Seaborn package boxplot\n",
    "ax = sns.boxplot(x=\"pe\", y=\"salary\", hue=\"gender\", data=temp, palette=\"Set3\", order = pe_order)\n",
    "\n",
    "# Plot formatting\n",
    "ax.set_title('Boxplot of Men and Women Salary Across Different Professional Experience Years')\n",
    "ax.set_ylabel('Salary ($)')\n",
    "ax.set_xlabel('Profession Experience (Years)')\n",
    "ax.set_xticklabels(ax.get_xticklabels(), rotation=90)\n",
    "plt.figure(dpi=400) # needs to comment when doing export\n",
    "plt.show() # needs to comment when doing export\n",
    "\n",
    "# export figure for report\n",
    "# plt.savefig('f3.png', dpi=400, bbox_inches='tight') "
   ]
  },
  {
   "cell_type": "markdown",
   "metadata": {},
   "source": [
    "The third boxplot examines the salaries with different professional experience durations between men and women in order to further explore women’s representation in Data Science and Machine Learning. In general, we can see that as professional experience duration increases, the median salaries also increase, which seems reasonable that more experienced workers receive higher salaries. However, women’s median salaries are always lower than men’s median salaries in all professional experience durations. Interestingly, after 10 years of experience, women’s maximum salaries become greater than men. Men’s and women’s maximum salaries become equal after 20 years of professional experience."
   ]
  },
  {
   "cell_type": "markdown",
   "metadata": {},
   "source": [
    "### Question 2\n",
    "Estimating the difference between average salary (Q24) of men vs. women (Q2)."
   ]
  },
  {
   "cell_type": "markdown",
   "metadata": {},
   "source": [
    "#### a) Compute and report descriptive statistics for each group (remove missing data, if necessary)."
   ]
  },
  {
   "cell_type": "code",
   "execution_count": 15,
   "metadata": {},
   "outputs": [
    {
     "data": {
      "text/plain": [
       "gender    0\n",
       "salary    0\n",
       "dtype: int64"
      ]
     },
     "execution_count": 15,
     "metadata": {},
     "output_type": "execute_result"
    }
   ],
   "source": [
    "temp = df.filter(items=['Q2', 'Q24'])\n",
    "temp.columns = ['gender', 'salary']\n",
    "temp = temp.loc[(temp['gender'] == 'Man') | (temp['gender'] == 'Woman')]\n",
    "# temp.head()\n",
    "\n",
    "# isnull returns True or False, then using \"sum\" function to check total missing values, \n",
    "# if it equals 0 meaning no missing values\n",
    "temp.isnull().sum() "
   ]
  },
  {
   "cell_type": "code",
   "execution_count": 16,
   "metadata": {},
   "outputs": [
    {
     "data": {
      "text/html": [
       "<div>\n",
       "<style scoped>\n",
       "    .dataframe tbody tr th:only-of-type {\n",
       "        vertical-align: middle;\n",
       "    }\n",
       "\n",
       "    .dataframe tbody tr th {\n",
       "        vertical-align: top;\n",
       "    }\n",
       "\n",
       "    .dataframe thead th {\n",
       "        text-align: right;\n",
       "    }\n",
       "</style>\n",
       "<table border=\"1\" class=\"dataframe\">\n",
       "  <thead>\n",
       "    <tr style=\"text-align: right;\">\n",
       "      <th></th>\n",
       "      <th>count</th>\n",
       "      <th>mean</th>\n",
       "      <th>std</th>\n",
       "      <th>min</th>\n",
       "      <th>25%</th>\n",
       "      <th>50%</th>\n",
       "      <th>75%</th>\n",
       "      <th>max</th>\n",
       "    </tr>\n",
       "    <tr>\n",
       "      <th>gender</th>\n",
       "      <th></th>\n",
       "      <th></th>\n",
       "      <th></th>\n",
       "      <th></th>\n",
       "      <th></th>\n",
       "      <th></th>\n",
       "      <th></th>\n",
       "      <th></th>\n",
       "    </tr>\n",
       "  </thead>\n",
       "  <tbody>\n",
       "    <tr>\n",
       "      <th>Man</th>\n",
       "      <td>8872.0</td>\n",
       "      <td>50750.619928</td>\n",
       "      <td>70347.974812</td>\n",
       "      <td>1000.0</td>\n",
       "      <td>3000.0</td>\n",
       "      <td>25000.0</td>\n",
       "      <td>70000.0</td>\n",
       "      <td>500000.0</td>\n",
       "    </tr>\n",
       "    <tr>\n",
       "      <th>Woman</th>\n",
       "      <td>1683.0</td>\n",
       "      <td>36417.112299</td>\n",
       "      <td>59442.716093</td>\n",
       "      <td>1000.0</td>\n",
       "      <td>1000.0</td>\n",
       "      <td>7500.0</td>\n",
       "      <td>50000.0</td>\n",
       "      <td>500000.0</td>\n",
       "    </tr>\n",
       "  </tbody>\n",
       "</table>\n",
       "</div>"
      ],
      "text/plain": [
       "         count          mean           std     min     25%      50%      75%  \\\n",
       "gender                                                                         \n",
       "Man     8872.0  50750.619928  70347.974812  1000.0  3000.0  25000.0  70000.0   \n",
       "Woman   1683.0  36417.112299  59442.716093  1000.0  1000.0   7500.0  50000.0   \n",
       "\n",
       "             max  \n",
       "gender            \n",
       "Man     500000.0  \n",
       "Woman   500000.0  "
      ]
     },
     "execution_count": 16,
     "metadata": {},
     "output_type": "execute_result"
    }
   ],
   "source": [
    "# Descriptive Table 2.1\n",
    "temp.groupby('gender').salary.describe()"
   ]
  },
  {
   "cell_type": "markdown",
   "metadata": {},
   "source": [
    "Based on the descriptive table 2.1, there are 8872 men and 1683 women participated in this survey. The mean of women’s salaries is about 36417.11 dollars with SD = 59442.72, and the mean of men’s salaries is about 50750.62 dollars with SD = 70347.97. \n",
    "\n",
    "The maximum salaries of men and women are the same, which are 500000 dollars. \n",
    "\n",
    "The minimum salaries are also same between women and men, which are 1000 dollars. \n",
    "\n",
    "Men’s salary is generally higher than women’s salary in most of the quartiles."
   ]
  },
  {
   "cell_type": "markdown",
   "metadata": {},
   "source": [
    "#### b) If suitable, perform a two-sample t-test with a 0.05 threshold. Explain your rationale."
   ]
  },
  {
   "cell_type": "code",
   "execution_count": 17,
   "metadata": {},
   "outputs": [
    {
     "name": "stdout",
     "output_type": "stream",
     "text": [
      "t-test: t = -7.84433  p = 4.77315e-15\n"
     ]
    }
   ],
   "source": [
    "man = temp[temp['gender'] == 'Man']\n",
    "woman = temp[temp['gender'] == 'Woman']\n",
    "woman = woman['salary']\n",
    "man = man['salary']\n",
    "tc, pc = stats.ttest_ind(woman, man)\n",
    "print (\"t-test: t = %g  p = %g\" % (tc, pc))"
   ]
  },
  {
   "cell_type": "markdown",
   "metadata": {},
   "source": [
    "According to the central limit theorem, we assume homogeneity of variance in our data due to a large number of participants (n > 30). Based on the results, we can conclude that there is a significant difference between men’s and women's salary incoming, since p-value = 5e-15 < 0.05. Based on the t-value, we can also conclude that men tend to earn more than women do."
   ]
  },
  {
   "cell_type": "markdown",
   "metadata": {},
   "source": [
    "#### c) Boostrap your data from comparing the mean of salary (Q24) for the two groups. Note that the number of instances you sample from each group should be relative to its size. Use 1000 replications. Plot two bootstrapped distributions (for men and women) and the distribution of the difference in means."
   ]
  },
  {
   "cell_type": "code",
   "execution_count": 18,
   "metadata": {},
   "outputs": [
    {
     "data": {
      "image/png": "[encoded data removed]",
      "text/plain": [
       "<Figure size 432x288 with 1 Axes>"
      ]
     },
     "metadata": {
      "needs_background": "light"
     },
     "output_type": "display_data"
    }
   ],
   "source": [
    "# Figure 2.1\n",
    "# bootstrap woman's mean\n",
    "np.random.seed(seed=200) # keep the result consistent\n",
    "k = int(0.95*len(woman)) # pick the sample size to be 95% of the total size\n",
    "Replications_w = np.array([np.random.choice(woman, k, replace = True) for _ in range(1000)])\n",
    "Mean_w = np.mean(Replications_w, axis=1)\n",
    "\n",
    "# plot histogram\n",
    "plt.hist(Mean_w, 10, facecolor='r', alpha=0.75)\n",
    "plt.grid(True)\n",
    "plt.show()"
   ]
  },
  {
   "cell_type": "code",
   "execution_count": 19,
   "metadata": {},
   "outputs": [
    {
     "data": {
      "image/png": "[encoded data removed]",
      "text/plain": [
       "<Figure size 432x288 with 1 Axes>"
      ]
     },
     "metadata": {
      "needs_background": "light"
     },
     "output_type": "display_data"
    }
   ],
   "source": [
    "# Figure 2.2\n",
    "# bootstrap man's mean\n",
    "np.random.seed(seed=200) # keep the result consistent\n",
    "k = int(0.95*len(man)) # pick the sample size to be 95% of the total size\n",
    "Replications_m = np.array([np.random.choice(man, k, replace = True) for _ in range(1000)])\n",
    "Mean_m = np.mean(Replications_m, axis=1)\n",
    "\n",
    "# plot histogram\n",
    "plt.hist(Mean_m, 10, facecolor='b', alpha=0.75)\n",
    "plt.grid(True)\n",
    "plt.show()"
   ]
  },
  {
   "cell_type": "code",
   "execution_count": 20,
   "metadata": {},
   "outputs": [
    {
     "data": {
      "image/png": "[encoded data removed]",
      "text/plain": [
       "<Figure size 432x288 with 1 Axes>"
      ]
     },
     "metadata": {
      "needs_background": "light"
     },
     "output_type": "display_data"
    }
   ],
   "source": [
    "# Figure 2.3\n",
    "# distribution of the difference in means\n",
    "d = Mean_m - Mean_w # subtract men's bootstrapped means with women's bootstrapped means\n",
    "\n",
    "# plot histogram\n",
    "plt.hist(d, 10, facecolor='m', alpha=0.75)\n",
    "plt.grid(True)\n",
    "plt.show()"
   ]
  },
  {
   "cell_type": "code",
   "execution_count": 21,
   "metadata": {},
   "outputs": [
    {
     "data": {
      "text/plain": [
       "<matplotlib.legend.Legend at 0x1208ab6a0>"
      ]
     },
     "execution_count": 21,
     "metadata": {},
     "output_type": "execute_result"
    },
    {
     "data": {
      "image/png": "[encoded data removed]",
      "text/plain": [
       "<Figure size 432x288 with 1 Axes>"
      ]
     },
     "metadata": {
      "needs_background": "light"
     },
     "output_type": "display_data"
    }
   ],
   "source": [
    "# just for exploration, plot the two bootstrapped distributions in one graph\n",
    "plt.hist(Mean_w, 10, alpha=0.5, label='Woman')\n",
    "plt.hist(Mean_m, 10, alpha=0.5, label='Man')\n",
    "plt.legend(loc='upper center')\n",
    "# The exploration plot of women and men's salary altogether in one graph\n",
    "# men's salary is more concentrated and closer to the mean\n",
    "# and women's salary seems to have a larger variation."
   ]
  },
  {
   "cell_type": "markdown",
   "metadata": {},
   "source": [
    "#### d) If suitable, perform a two-sample t-test with a 0.05 threshold on the bootstrapped data. Explain your rationale."
   ]
  },
  {
   "cell_type": "code",
   "execution_count": 22,
   "metadata": {},
   "outputs": [
    {
     "name": "stdout",
     "output_type": "stream",
     "text": [
      "t-test: t = 265.21  p = 0\n"
     ]
    }
   ],
   "source": [
    "tc, pc = stats.ttest_ind(Mean_m, Mean_w)\n",
    "print (\"t-test: t = %g  p = %g\" % (tc, pc))"
   ]
  },
  {
   "cell_type": "code",
   "execution_count": 23,
   "metadata": {},
   "outputs": [
    {
     "data": {
      "text/plain": [
       "True"
      ]
     },
     "execution_count": 23,
     "metadata": {},
     "output_type": "execute_result"
    }
   ],
   "source": [
    "pc < 0.05"
   ]
  },
  {
   "cell_type": "markdown",
   "metadata": {},
   "source": [
    "Based on the results, the t statistic gets extremely large leading to the p-value becomes extremely small (< 0.05), which indicates a significant difference between the two groups. This is due to the bootstrapped means from each group are all very close to their original sample mean and far away from another group."
   ]
  },
  {
   "cell_type": "markdown",
   "metadata": {},
   "source": [
    "#### e) Comment on your findings."
   ]
  },
  {
   "cell_type": "markdown",
   "metadata": {},
   "source": [
    "When we used the t-test on the original men’s and women's salary sample means, there already existed a significant difference. The bootstrapped data makes an even larger difference between men and women's salary because men's bootstrapped data/means are very similar to each other and far away from women's bootstrapped means (same as the women’s data). Men's salary is generally $14000 higher than women based on the plot of the differences in means."
   ]
  },
  {
   "cell_type": "markdown",
   "metadata": {},
   "source": [
    "### Question 3\n",
    "[5pts] Select “highest level of formal education” (Q4) from the dataset and repeat steps a to e, this time use analysis of variance (ANOVA) instead of t-test for hypothesis testing to compare the means of salary for three groups (Bachelor’s degree, Doctoral degree, and Master’s degree) [0.75pts for a; 0.5 pts for b; 2pts for c; 0.75 pts for d; 1pt for e]."
   ]
  },
  {
   "cell_type": "markdown",
   "metadata": {},
   "source": [
    "#### a) Compute and report descriptive statistics for each group (remove missing data, if necessary)."
   ]
  },
  {
   "cell_type": "code",
   "execution_count": 4,
   "metadata": {},
   "outputs": [
    {
     "data": {
      "text/plain": [
       "education    0\n",
       "salary       0\n",
       "dtype: int64"
      ]
     },
     "execution_count": 4,
     "metadata": {},
     "output_type": "execute_result"
    }
   ],
   "source": [
    "temp = df.filter(items=['Q4', 'Q24'])\n",
    "temp.columns = ['education', 'salary']\n",
    "temp = temp.loc[(temp['education'] == 'Bachelor’s degree') \n",
    "                | (temp['education'] == 'Master’s degree') \n",
    "                | (temp['education'] == 'Doctoral degree')]\n",
    "# temp.head()\n",
    "\n",
    "# check missing values, if it equals 0 meaning no missing values\n",
    "temp.isnull().sum()"
   ]
  },
  {
   "cell_type": "code",
   "execution_count": 5,
   "metadata": {
    "scrolled": true
   },
   "outputs": [
    {
     "data": {
      "text/html": [
       "<div>\n",
       "<style scoped>\n",
       "    .dataframe tbody tr th:only-of-type {\n",
       "        vertical-align: middle;\n",
       "    }\n",
       "\n",
       "    .dataframe tbody tr th {\n",
       "        vertical-align: top;\n",
       "    }\n",
       "\n",
       "    .dataframe thead th {\n",
       "        text-align: right;\n",
       "    }\n",
       "</style>\n",
       "<table border=\"1\" class=\"dataframe\">\n",
       "  <thead>\n",
       "    <tr style=\"text-align: right;\">\n",
       "      <th></th>\n",
       "      <th>count</th>\n",
       "      <th>mean</th>\n",
       "      <th>std</th>\n",
       "      <th>min</th>\n",
       "      <th>25%</th>\n",
       "      <th>50%</th>\n",
       "      <th>75%</th>\n",
       "      <th>max</th>\n",
       "    </tr>\n",
       "    <tr>\n",
       "      <th>education</th>\n",
       "      <th></th>\n",
       "      <th></th>\n",
       "      <th></th>\n",
       "      <th></th>\n",
       "      <th></th>\n",
       "      <th></th>\n",
       "      <th></th>\n",
       "      <th></th>\n",
       "    </tr>\n",
       "  </thead>\n",
       "  <tbody>\n",
       "    <tr>\n",
       "      <th>Bachelor’s degree</th>\n",
       "      <td>3013.0</td>\n",
       "      <td>35732.824427</td>\n",
       "      <td>60247.753546</td>\n",
       "      <td>1000.0</td>\n",
       "      <td>1000.0</td>\n",
       "      <td>10000.0</td>\n",
       "      <td>50000.0</td>\n",
       "      <td>500000.0</td>\n",
       "    </tr>\n",
       "    <tr>\n",
       "      <th>Doctoral degree</th>\n",
       "      <td>1718.0</td>\n",
       "      <td>68719.441211</td>\n",
       "      <td>85403.650394</td>\n",
       "      <td>1000.0</td>\n",
       "      <td>5000.0</td>\n",
       "      <td>40000.0</td>\n",
       "      <td>90000.0</td>\n",
       "      <td>500000.0</td>\n",
       "    </tr>\n",
       "    <tr>\n",
       "      <th>Master’s degree</th>\n",
       "      <td>4879.0</td>\n",
       "      <td>52120.106579</td>\n",
       "      <td>67681.571528</td>\n",
       "      <td>1000.0</td>\n",
       "      <td>4000.0</td>\n",
       "      <td>25000.0</td>\n",
       "      <td>70000.0</td>\n",
       "      <td>500000.0</td>\n",
       "    </tr>\n",
       "  </tbody>\n",
       "</table>\n",
       "</div>"
      ],
      "text/plain": [
       "                    count          mean           std     min     25%  \\\n",
       "education                                                               \n",
       "Bachelor’s degree  3013.0  35732.824427  60247.753546  1000.0  1000.0   \n",
       "Doctoral degree    1718.0  68719.441211  85403.650394  1000.0  5000.0   \n",
       "Master’s degree    4879.0  52120.106579  67681.571528  1000.0  4000.0   \n",
       "\n",
       "                       50%      75%       max  \n",
       "education                                      \n",
       "Bachelor’s degree  10000.0  50000.0  500000.0  \n",
       "Doctoral degree    40000.0  90000.0  500000.0  \n",
       "Master’s degree    25000.0  70000.0  500000.0  "
      ]
     },
     "execution_count": 5,
     "metadata": {},
     "output_type": "execute_result"
    }
   ],
   "source": [
    "# Descriptive Table 3.1\n",
    "temp.groupby('education').salary.describe()"
   ]
  },
  {
   "cell_type": "markdown",
   "metadata": {},
   "source": [
    "Based on the descriptive table 3.1, there are 3013 bachelor’s, 4879 master’s and 1718 doctoral in this survey. The means of bachelor’s, master’s and doctoral salaries are about 35732.82 with SD = 60247.75, 52120.11 with SD = 67681.57, and 68719.44 with SD = 85403.65. \n",
    "\n",
    "The maximum salaries (500000 dollars) are all the same between three levels.\n",
    "\n",
    "The minimum salaries are also the same among women and men (1000 dollars). \n",
    "\n",
    "Doctoral salary is generally higher than the other two across most quartiles."
   ]
  },
  {
   "cell_type": "markdown",
   "metadata": {},
   "source": [
    "#### b) If suitable, perform ANOVA with a 0.05 threshold to compare the means of salary for three groups (Bachelor’s degree, Doctoral degree, and Master’s degree). Explain your rationale."
   ]
  },
  {
   "cell_type": "code",
   "execution_count": 6,
   "metadata": {},
   "outputs": [
    {
     "data": {
      "text/plain": [
       "F_onewayResult(statistic=129.7560112960932, pvalue=2.4852074227874282e-56)"
      ]
     },
     "execution_count": 6,
     "metadata": {},
     "output_type": "execute_result"
    }
   ],
   "source": [
    "stats.f_oneway(temp[temp['education'] == 'Bachelor’s degree']['salary'],\n",
    "               temp[temp['education'] == 'Master’s degree']['salary'],\n",
    "               temp[temp['education'] == 'Doctoral degree']['salary'])"
   ]
  },
  {
   "cell_type": "code",
   "execution_count": 11,
   "metadata": {
    "scrolled": true
   },
   "outputs": [
    {
     "name": "stdout",
     "output_type": "stream",
     "text": [
      "               Multiple Comparison of Means - Tukey HSD, FWER=0.05               \n",
      "=================================================================================\n",
      "      group1           group2       meandiff  p-adj   lower       upper    reject\n",
      "---------------------------------------------------------------------------------\n",
      "Bachelor’s degree Doctoral degree  32986.6168 0.001 28093.5374  37879.6962   True\n",
      "Bachelor’s degree Master’s degree  16387.2822 0.001 12637.1593   20137.405   True\n",
      "  Doctoral degree Master’s degree -16599.3346 0.001 -21139.934 -12058.7353   True\n",
      "---------------------------------------------------------------------------------\n"
     ]
    }
   ],
   "source": [
    "tukey = pairwise_tukeyhsd(endog= temp['salary'],\n",
    "                          groups= temp['education'],\n",
    "                          alpha=0.05)\n",
    "print(tukey)"
   ]
  },
  {
   "cell_type": "markdown",
   "metadata": {},
   "source": [
    "We also assume homogeneity of variance in our data because of CLT (n > 30). Based on the results, we can conclude significant differences in salaries between the three groups, since p-value = 5e-56 < 0.05. From the Tukey test, all three comparisons are significant. The largest difference is between Bachelor's and Doctoral, which is 32986.62."
   ]
  },
  {
   "cell_type": "markdown",
   "metadata": {},
   "source": [
    "#### c) Boostrap your data from comparing the mean of salary (Q24) for the three groups. Note that the number of instances you sample from each group should be relative to its size. Use 1000 replications. Plot three bootstrapped distributions and the distribution of the difference in means."
   ]
  },
  {
   "cell_type": "code",
   "execution_count": 13,
   "metadata": {},
   "outputs": [
    {
     "data": {
      "image/png": "[encoded data removed]",
      "text/plain": [
       "<Figure size 432x288 with 1 Axes>"
      ]
     },
     "metadata": {
      "needs_background": "light"
     },
     "output_type": "display_data"
    }
   ],
   "source": [
    "# Figure 3.1\n",
    "# set up\n",
    "b = temp[temp['education'] == 'Bachelor’s degree']['salary']\n",
    "\n",
    "# boostrap bachelor's mean\n",
    "np.random.seed(seed=432) # keep the result consistent\n",
    "k = int(0.95*len(b)) # pick the sample size to be 95% of the total size\n",
    "Replications_b = np.array([np.random.choice(b, k, replace = True) for _ in range(1000)])\n",
    "Mean_b = np.mean(Replications_b, axis=1)\n",
    "plt.hist(Mean_b, 10, facecolor='r', alpha=0.75)\n",
    "plt.grid(True)\n",
    "plt.show()"
   ]
  },
  {
   "cell_type": "code",
   "execution_count": 14,
   "metadata": {},
   "outputs": [
    {
     "data": {
      "image/png": "[encoded data removed]",
      "text/plain": [
       "<Figure size 432x288 with 1 Axes>"
      ]
     },
     "metadata": {
      "needs_background": "light"
     },
     "output_type": "display_data"
    }
   ],
   "source": [
    "# Figure 3.2\n",
    "# set up\n",
    "m = temp[temp['education'] == 'Master’s degree']['salary']\n",
    "\n",
    "# boostrap master's mean\n",
    "np.random.seed(seed=432) # keep the result consistent\n",
    "k = int(0.95*len(m)) # pick the sample size to be 95% of the total size\n",
    "Replications_m = np.array([np.random.choice(m, k, replace = True) for _ in range(1000)])\n",
    "Mean_m = np.mean(Replications_m, axis=1)\n",
    "plt.hist(Mean_m, 10, facecolor='b', alpha=0.75)\n",
    "plt.grid(True)\n",
    "plt.show()"
   ]
  },
  {
   "cell_type": "code",
   "execution_count": 15,
   "metadata": {},
   "outputs": [
    {
     "data": {
      "image/png": "[encoded data removed]",
      "text/plain": [
       "<Figure size 432x288 with 1 Axes>"
      ]
     },
     "metadata": {
      "needs_background": "light"
     },
     "output_type": "display_data"
    }
   ],
   "source": [
    "# Figure 3.3\n",
    "# set up\n",
    "d = temp[temp['education'] == 'Doctoral degree']['salary']\n",
    "\n",
    "# boostrap doctoral's mean\n",
    "np.random.seed(seed=432) # keep the result consistent\n",
    "k = int(0.95*len(d)) # pick the sample size to be 95% of the total size\n",
    "Replications_d = np.array([np.random.choice(d, k, replace = True) for _ in range(1000)])\n",
    "Mean_d = np.mean(Replications_d, axis=1)\n",
    "plt.hist(Mean_d, 10, facecolor='g', alpha=0.75)\n",
    "plt.grid(True)\n",
    "plt.show()"
   ]
  },
  {
   "cell_type": "code",
   "execution_count": 16,
   "metadata": {},
   "outputs": [
    {
     "data": {
      "image/png": "[encoded data removed]",
      "text/plain": [
       "<Figure size 432x288 with 1 Axes>"
      ]
     },
     "metadata": {
      "needs_background": "light"
     },
     "output_type": "display_data"
    }
   ],
   "source": [
    "# Figure 3.4\n",
    "# distribution of the difference in means between bachelor's and master's\n",
    "d1 = Mean_m - Mean_b\n",
    "plt.hist(d1, 10, facecolor='m', alpha=0.75)\n",
    "plt.grid(True)\n",
    "plt.show()"
   ]
  },
  {
   "cell_type": "code",
   "execution_count": 17,
   "metadata": {},
   "outputs": [
    {
     "data": {
      "image/png": "[encoded data removed]",
      "text/plain": [
       "<Figure size 432x288 with 1 Axes>"
      ]
     },
     "metadata": {
      "needs_background": "light"
     },
     "output_type": "display_data"
    }
   ],
   "source": [
    "# Figure 3.5\n",
    "# distribution of the difference in means between bachelor's and doctoral's\n",
    "d2 = Mean_d - Mean_b\n",
    "plt.hist(d2, 10, facecolor='c', alpha=0.75)\n",
    "plt.grid(True)\n",
    "plt.show()"
   ]
  },
  {
   "cell_type": "code",
   "execution_count": 18,
   "metadata": {},
   "outputs": [
    {
     "data": {
      "image/png": "[encoded data removed]",
      "text/plain": [
       "<Figure size 432x288 with 1 Axes>"
      ]
     },
     "metadata": {
      "needs_background": "light"
     },
     "output_type": "display_data"
    }
   ],
   "source": [
    "# Figure 3.6\n",
    "# distribution of the difference in means between master's and doctoral's\n",
    "d3 = Mean_d - Mean_m\n",
    "plt.hist(d3, 10, facecolor='y', alpha=0.75)\n",
    "plt.grid(True)\n",
    "plt.show()"
   ]
  },
  {
   "cell_type": "code",
   "execution_count": 19,
   "metadata": {},
   "outputs": [
    {
     "data": {
      "text/plain": [
       "<matplotlib.legend.Legend at 0x7faf0ddd0370>"
      ]
     },
     "execution_count": 19,
     "metadata": {},
     "output_type": "execute_result"
    },
    {
     "data": {
      "image/png": "[encoded data removed]",
      "text/plain": [
       "<Figure size 432x288 with 1 Axes>"
      ]
     },
     "metadata": {
      "needs_background": "light"
     },
     "output_type": "display_data"
    }
   ],
   "source": [
    "# just for exploration, plot the three boostrap distributions in one graph\n",
    "plt.hist(Mean_b, 10, alpha=0.5, label='Bachelor’s degree')\n",
    "plt.hist(Mean_m, 10, alpha=0.5, label='Master’s degree')\n",
    "plt.hist(Mean_d, 10, alpha=0.5, label='Doctoral degree')\n",
    "plt.legend(loc='upper right')\n",
    "# According to the exploration plot of the three groups' salary altogether in one graph, \n",
    "# bachelor's and master's salaries are more concentrated and close to the mean\n",
    "# and doctoral's salary seems to have a larger variation."
   ]
  },
  {
   "cell_type": "markdown",
   "metadata": {},
   "source": [
    "#### d) If suitable, perform ANOVA with a 0.05 threshold on the bootstrapped data. Explain your rationale."
   ]
  },
  {
   "cell_type": "code",
   "execution_count": 62,
   "metadata": {},
   "outputs": [
    {
     "data": {
      "text/plain": [
       "F_onewayResult(statistic=124850.69292946055, pvalue=0.0)"
      ]
     },
     "execution_count": 62,
     "metadata": {},
     "output_type": "execute_result"
    }
   ],
   "source": [
    "stats.f_oneway(Mean_b, Mean_m, Mean_d)"
   ]
  },
  {
   "cell_type": "code",
   "execution_count": 68,
   "metadata": {},
   "outputs": [
    {
     "data": {
      "text/plain": [
       "True"
      ]
     },
     "execution_count": 68,
     "metadata": {},
     "output_type": "execute_result"
    }
   ],
   "source": [
    "s, p = stats.f_oneway(Mean_b, Mean_m, Mean_d)\n",
    "p < 0.05"
   ]
  },
  {
   "cell_type": "code",
   "execution_count": 37,
   "metadata": {},
   "outputs": [
    {
     "name": "stdout",
     "output_type": "stream",
     "text": [
      "     Multiple Comparison of Means - Tukey HSD, FWER=0.05      \n",
      "==============================================================\n",
      "group1 group2   meandiff  p-adj    lower       upper    reject\n",
      "--------------------------------------------------------------\n",
      "     b      d   33052.624 0.001  32897.5216  33207.7264   True\n",
      "     b      m  16458.9092 0.001  16303.8068  16614.0116   True\n",
      "     d      m -16593.7148 0.001 -16748.8171 -16438.6124   True\n",
      "--------------------------------------------------------------\n"
     ]
    }
   ],
   "source": [
    "# merge the data altogether into one dataframe\n",
    "d1 = pd.DataFrame({'salary': Mean_b[:], 'education': \"b\"}) # bachelor\n",
    "d2 = pd.DataFrame({'salary': Mean_m[:], 'education': \"m\"}) # master\n",
    "d3 = pd.DataFrame({'salary': Mean_d[:], 'education': \"d\"}) # doctoral\n",
    "df = pd.concat([d1,d2,d3])\n",
    "\n",
    "#df.head()\n",
    "\n",
    "# Tukey test\n",
    "tukey = pairwise_tukeyhsd(endog= df['salary'],\n",
    "                          groups= df['education'],\n",
    "                          alpha=0.05)\n",
    "print(tukey)"
   ]
  },
  {
   "cell_type": "markdown",
   "metadata": {},
   "source": [
    "There exist significant differences in salaries between the three education levels according to the extremely small p-value (< 0.05) and extremely large statistic. The differences between the three groups bootstrapped data become extremely large, because each data is a mean from a random sample which is very similar to its original mean and far away from the other groups means/bootstrapped data. Based on Tukey's test, the comparisons are all significant, and the largest difference is still between bachelor and doctoral."
   ]
  },
  {
   "cell_type": "markdown",
   "metadata": {},
   "source": [
    "#### e) Comment on your findings."
   ]
  },
  {
   "cell_type": "markdown",
   "metadata": {},
   "source": [
    "When we compare the original three educations salary sample means, there already existed significant differences. The bootstrapped data makes the three groups' salary concentrated more closely to the original means and far away from the other two groups. \n",
    "\n",
    "The three plots of the differences in means indicates the largest difference exists between bachelor's and doctoral ($33000). \n",
    "\n",
    "The difference between bachelor's and master's is very similar to the difference between master's and doctoral ($16000)."
   ]
  }
 ],
 "metadata": {
  "kernelspec": {
   "display_name": "Python 3",
   "language": "python",
   "name": "python3"
  },
  "language_info": {
   "codemirror_mode": {
    "name": "ipython",
    "version": 3
   },
   "file_extension": ".py",
   "mimetype": "text/x-python",
   "name": "python",
   "nbconvert_exporter": "python",
   "pygments_lexer": "ipython3",
   "version": "3.8.5"
  }
 },
 "nbformat": 4,
 "nbformat_minor": 4
}
